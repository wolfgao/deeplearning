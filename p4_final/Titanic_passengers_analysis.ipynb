{
 "cells": [
  {
   "cell_type": "markdown",
   "metadata": {},
   "source": [
    "## 建立问题和设定目标\n",
    "\n",
    "首先这是一个数据分析的练习项目，我选择了泰坦尼克船客的数据进行分析，试图回答和预测：\n",
    " - 是什么因素导致高概率的存活？是否和性别，年龄，船舱级别或者其他任何因素有关？\n",
    " - 是否可以预测任何一个船客的存活概率？最好可以和实际结果进行对照。\n"
   ]
  },
  {
   "cell_type": "markdown",
   "metadata": {},
   "source": [
    "## 数据加工（数据获取和清洗）\n",
    "\n",
    "- 数据概览\n",
    "本案例分析的所有数据来自[Kaggle 网站](https://www.kaggle.com/c/titanic/data), 该网站对数据的说明如下：\n",
    "\n",
    "    Variable\tDefinition\tKey\n",
    "    survival\tSurvival\t0 = No, 1 = Yes\n",
    "    pclass\tTicket class\t1 = 1st, 2 = 2nd, 3 = 3rd\n",
    "    sex\tSex\t\n",
    "    Age\tAge in years\t\n",
    "    sibsp\t# of siblings / spouses aboard the Titanic\t\n",
    "    parch\t# of parents / children aboard the Titanic\t\n",
    "    ticket\tTicket number\t\n",
    "    fare\tPassenger fare\t\n",
    "    cabin\tCabin number\t\n",
    "    embarked\tPort of Embarkation\tC = Cherbourg, Q = Queenstown, S = Southampton"
   ]
  },
  {
   "cell_type": "code",
   "execution_count": 67,
   "metadata": {},
   "outputs": [
    {
     "name": "stdout",
     "output_type": "stream",
     "text": [
      "       PassengerId    Survived      Pclass         Age       SibSp  \\\n",
      "count   891.000000  891.000000  891.000000  714.000000  891.000000   \n",
      "mean    446.000000    0.383838    2.308642   29.699118    0.523008   \n",
      "std     257.353842    0.486592    0.836071   14.526497    1.102743   \n",
      "min       1.000000    0.000000    1.000000    0.420000    0.000000   \n",
      "25%     223.500000    0.000000    2.000000   20.125000    0.000000   \n",
      "50%     446.000000    0.000000    3.000000   28.000000    0.000000   \n",
      "75%     668.500000    1.000000    3.000000   38.000000    1.000000   \n",
      "max     891.000000    1.000000    3.000000   80.000000    8.000000   \n",
      "\n",
      "            Parch        Fare  \n",
      "count  891.000000  891.000000  \n",
      "mean     0.381594   32.204208  \n",
      "std      0.806057   49.693429  \n",
      "min      0.000000    0.000000  \n",
      "25%      0.000000    7.910400  \n",
      "50%      0.000000   14.454200  \n",
      "75%      0.000000   31.000000  \n",
      "max      6.000000  512.329200  \n",
      "<class 'pandas.core.frame.DataFrame'>\n",
      "RangeIndex: 891 entries, 0 to 890\n",
      "Data columns (total 12 columns):\n",
      "PassengerId    891 non-null int64\n",
      "Survived       891 non-null int64\n",
      "Pclass         891 non-null int64\n",
      "Name           891 non-null object\n",
      "Sex            891 non-null object\n",
      "Age            714 non-null float64\n",
      "SibSp          891 non-null int64\n",
      "Parch          891 non-null int64\n",
      "Ticket         891 non-null object\n",
      "Fare           891 non-null float64\n",
      "Cabin          204 non-null object\n",
      "Embarked       889 non-null object\n",
      "dtypes: float64(2), int64(5), object(5)\n",
      "memory usage: 83.6+ KB\n",
      "None\n",
      "   PassengerId  Survived  Pclass  \\\n",
      "0            1         0       3   \n",
      "1            2         1       1   \n",
      "2            3         1       3   \n",
      "3            4         1       1   \n",
      "4            5         0       3   \n",
      "\n",
      "                                                Name     Sex   Age  SibSp  \\\n",
      "0                            Braund, Mr. Owen Harris    male  22.0      1   \n",
      "1  Cumings, Mrs. John Bradley (Florence Briggs Th...  female  38.0      1   \n",
      "2                             Heikkinen, Miss. Laina  female  26.0      0   \n",
      "3       Futrelle, Mrs. Jacques Heath (Lily May Peel)  female  35.0      1   \n",
      "4                           Allen, Mr. William Henry    male  35.0      0   \n",
      "\n",
      "   Parch            Ticket     Fare Cabin Embarked  \n",
      "0      0         A/5 21171   7.2500   NaN        S  \n",
      "1      0          PC 17599  71.2833   C85        C  \n",
      "2      0  STON/O2. 3101282   7.9250   NaN        S  \n",
      "3      0            113803  53.1000  C123        S  \n",
      "4      0            373450   8.0500   NaN        S  \n",
      "Survived\n",
      "0    549\n",
      "1    342\n",
      "dtype: int64\n"
     ]
    }
   ],
   "source": [
    "import pandas as pd\n",
    "import numpy as np\n",
    "import matplotlib.pyplot as plt\n",
    "import seaborn as sns\n",
    "\n",
    "%matplotlib inline\n",
    "\n",
    "#use read_csv() to get all data\n",
    "file_name = 'gender_submission.csv'\n",
    "gender_submission = pd.read_csv(file_name)\n",
    "\n",
    "print gender_submission.info()\n",
    "print gender_submission.head()\n",
    "print gender_submission.groupby(['Survived']).size()\n",
    "total_no_survived_num = gender_submission.groupby(['Survived']).size()[0]\n",
    "total_survived_num = gender_submission.groupby(['Survived']).size()[1]"
   ]
  },
  {
   "cell_type": "markdown",
   "metadata": {},
   "source": [
    "从上面的信息看，总共有891个记录，或者说有891个乘客。另外发现Age数据不全，总共才714个记录，另外Cabin和Embarked数据也不全，我们需要想办法补充这部分数据。\n",
    "\n",
    "另外发现这891个乘客到底只有342人生还，549人丧生，整体存活率是38%，死亡率是62%，具体哪些因素和死亡率有关，我们需要一步步来进行数据分析。"
   ]
  },
  {
   "cell_type": "code",
   "execution_count": 74,
   "metadata": {},
   "outputs": [
    {
     "data": {
      "image/png": "[encoded data removed]",
      "text/plain": [
       "<matplotlib.figure.Figure at 0x1120aec50>"
      ]
     },
     "metadata": {},
     "output_type": "display_data"
    }
   ],
   "source": [
    "plt.figure(figsize = (5,5))\n",
    "plt.pie([total_no_survived_num, total_survived_num],labels=['No Survived','Survived'],autopct='%1.00f%%')\n",
    "plt.title('Survival rate') \n",
    "\n",
    "plt.show()"
   ]
  },
  {
   "cell_type": "markdown",
   "metadata": {},
   "source": [
    "\n",
    "- 数据的清洗和补充\n",
    "\n",
    "经常原始数据需要重新加工材可以获得更有价值的信息。\n",
    "比如从年龄的数据看，一方面0.42岁到80岁不等，按照这个划分太细，得不出什么结论，另外一方面数据不够完整，只有714条记录，因此我们可以采用随机数来补充数据。\n",
    "\n",
    "1）将年龄划分几个部分：\n",
    "0～12岁：儿童；\n",
    "13～20岁：青少年，基本上未婚；\n",
    "21～40岁，青年，可能已经有孩子，具有责任感；\n",
    "41岁到59岁：中年，可能上有老，下有小；\n",
    "60岁到80岁：老年，可能有孙子了，可能老伴已经离开了。\n",
    "\n",
    "2）按照以上划分求出不同年龄段的比例，假定人员年龄丢失的信息是按照这个比例，但是也有可能不是按照这个比例，由于丢失年龄的记录是891-714=177，比例在20%不到，上不改变最终年龄的均值，但是会降低每个年龄段的存活率，因为增加了分母，然后按照这个比例去找随机数，补充进来。\n",
    "\n",
    "在开始之前，我们先删除原始数据中没有用的信息，比如PassengerId, Name, Ticket"
   ]
  },
  {
   "cell_type": "code",
   "execution_count": 168,
   "metadata": {},
   "outputs": [
    {
     "name": "stdout",
     "output_type": "stream",
     "text": [
      "有年龄纪录的数目是714, 丢失了177\n",
      "Age_level\n",
      "Adult       385\n",
      "Child        69\n",
      "Juvenile    110\n",
      "Middle      128\n",
      "Senior      199\n",
      "dtype: int64\n",
      "69\n"
     ]
    },
    {
     "data": {
      "text/plain": [
       "\"\\nchildren_df = titanic_clean_df[ titanic_clean_df['Age'] <= 12]\\njuvenile_df = titanic_clean_df[(titanic_clean_df['Age'] > 12) & (titanic_clean_df['Age'] <= 20)]\\nadults_df = titanic_clean_df[(titanic_clean_df['Age'] >20) & (titanic_clean_df['Age'] <=40)]\\nmiddle_df = titanic_clean_df[(titanic_clean_df['Age'] >40) & (titanic_clean_df['Age'] <=60)]\\nsenior_df = titanic_clean_df[titanic_clean_df['Age'] > 60]\\n\\n## \\xe5\\x90\\x84\\xe5\\xb9\\xb4\\xe9\\xbe\\x84\\xe6\\xae\\xb5\\xe6\\x80\\xbb\\xe4\\xba\\xba\\xe6\\x95\\xb0,\\xe5\\x8d\\xa0\\xe6\\x80\\xbb\\xe4\\xbd\\x93\\xe4\\xba\\xba\\xe7\\xbe\\xa4\\xe6\\xaf\\x94\\xe4\\xbe\\x8b\\xef\\xbc\\x8c\\xe7\\x94\\x9f\\xe8\\xbf\\x98\\xe4\\xba\\xba\\xe6\\x95\\xb0\\xef\\xbc\\x8c\\xe7\\x94\\x9f\\xe8\\xbf\\x98\\xe7\\x8e\\x87\\nchildren_survived_grouped = children_df.groupby(['Survived'])\\njuvenile_survived_grouped = juvenile_df.groupby(['Survived'])\\nadults_survived_grouped = adults_df.groupby(['Survived'])\\nmiddle_survived_grouped = middle_df.groupby(['Survived'])\\nsenior_survived_grouped = senior_df.groupby(['Survived'])\\n\\nchildren_count = sum(children_survived_grouped.size())\\njuvenile_count = sum(juvenile_survived_grouped.size())\\nadults_count = sum(adults_survived_grouped.size())\\nmiddle_count = sum(middle_survived_grouped.size())\\nsenior_count = sum(senior_survived_grouped.size())\\n##\\xe8\\xae\\xa1\\xe7\\xae\\x97\\xe5\\x90\\x84\\xe4\\xb8\\xaa\\xe5\\xb9\\xb4\\xe9\\xbe\\x84\\xe6\\xae\\xb5\\xe5\\xa2\\x9e\\xe8\\xa1\\xa5\\xe6\\x95\\xb0\\xe7\\x9b\\xae\\nchildren_missed_num = (float(children_count)/total_age_count)*total_age_missed\\n\""
      ]
     },
     "execution_count": 168,
     "metadata": {},
     "output_type": "execute_result"
    }
   ],
   "source": [
    "## 删除没有用的信息，排除他们的干扰\n",
    "titanic_clean_df = gender_submission.drop(['PassengerId','Name','Ticket'], axis=1)\n",
    "total_age_count = titanic_clean_df['Age'].count()\n",
    "total_age_missed = titanic_clean_df['Survived'].count()-total_age_count\n",
    "\n",
    "print \"有年龄纪录的数目是%d, 丢失了%d\" %(total_age_count,total_age_missed)\n",
    "\n",
    "## 按照上面的划分对数据进行初步加工,每个年龄阶段的所占比例，总数\n",
    "def change_age_category(age):\n",
    "    if age<=12:\n",
    "        return 'Child'\n",
    "    elif (age <= 20 and age > 12):\n",
    "        return 'Juvenile'\n",
    "    elif (age <= 40 and age > 20):\n",
    "        return 'Adult'\n",
    "    elif (age <= 60 and age > 40):\n",
    "        return 'Middle'\n",
    "    else:\n",
    "        return 'Senior'\n",
    "\n",
    "age_data =  titanic_clean_df['Age'].apply(change_age_category)\n",
    "titanic_clean_df['Age_level'] = age_data\n",
    "\n",
    "print titanic_clean_df.groupby(['Age_level']).size()\n",
    "\n",
    "def add_random_to_missed():\n",
    "    \n",
    "\n",
    "\n",
    "'''\n",
    "children_df = titanic_clean_df[ titanic_clean_df['Age'] <= 12]\n",
    "juvenile_df = titanic_clean_df[(titanic_clean_df['Age'] > 12) & (titanic_clean_df['Age'] <= 20)]\n",
    "adults_df = titanic_clean_df[(titanic_clean_df['Age'] >20) & (titanic_clean_df['Age'] <=40)]\n",
    "middle_df = titanic_clean_df[(titanic_clean_df['Age'] >40) & (titanic_clean_df['Age'] <=60)]\n",
    "senior_df = titanic_clean_df[titanic_clean_df['Age'] > 60]\n",
    "\n",
    "## 各年龄段总人数,占总体人群比例，生还人数，生还率\n",
    "children_survived_grouped = children_df.groupby(['Survived'])\n",
    "juvenile_survived_grouped = juvenile_df.groupby(['Survived'])\n",
    "adults_survived_grouped = adults_df.groupby(['Survived'])\n",
    "middle_survived_grouped = middle_df.groupby(['Survived'])\n",
    "senior_survived_grouped = senior_df.groupby(['Survived'])\n",
    "\n",
    "children_count = sum(children_survived_grouped.size())\n",
    "juvenile_count = sum(juvenile_survived_grouped.size())\n",
    "adults_count = sum(adults_survived_grouped.size())\n",
    "middle_count = sum(middle_survived_grouped.size())\n",
    "senior_count = sum(senior_survived_grouped.size())\n",
    "##计算各个年龄段增补数目\n",
    "children_missed_num = (float(children_count)/total_age_count)*total_age_missed\n",
    "'''\n"
   ]
  },
  {
   "cell_type": "code",
   "execution_count": 97,
   "metadata": {},
   "outputs": [
    {
     "name": "stdout",
     "output_type": "stream",
     "text": [
      "69 0.0966386554622 40 0.579710144928\n",
      "110 0.15406162465 42 0.381818181818\n",
      "385 0.539215686275 153 0.397402597403\n",
      "128 0.179271708683 50 0.390625\n",
      "22 0.179271708683 5 0.0390625\n"
     ]
    }
   ],
   "source": [
    "\n",
    "# 各年龄段总人数,占总体人群比例，生还人数，生还率\n",
    "children_survived_grouped = children_df.groupby(['Survived'])\n",
    "juvenile_survived_grouped = juvenile_df.groupby(['Survived'])\n",
    "adults_survived_grouped = adults_df.groupby(['Survived'])\n",
    "middle_survived_grouped = middle_df.groupby(['Survived'])\n",
    "senior_survived_grouped = senior_df.groupby(['Survived'])\n",
    "\n",
    "#\n",
    "total_age_count = 714\n",
    "age_mean = titanic_clean_df['Age'].mean()\n",
    "children_count = sum(children_survived_grouped.size())\n",
    "juvenile_count = sum(juvenile_survived_grouped.size())\n",
    "adults_count = sum(adults_survived_grouped.size())\n",
    "middle_count = sum(middle_survived_grouped.size())\n",
    "senior_count = sum(senior_survived_grouped.size())\n",
    "children_survived = children_survived_grouped.size()[1]\n",
    "juvenile_survived = juvenile_survived_grouped.size()[1]\n",
    "adults_survived = adults_survived_grouped.size()[1]\n",
    "middle_survived = middle_survived_grouped.size()[1]\n",
    "senior_survived = senior_survived_grouped.size()[1]\n",
    "\n",
    "#children的总数，比例，生还人数，比例\n",
    "children_rate = float(children_count)/total_age_count\n",
    "children_survived_rate = float(children_survived)/children_count\n",
    "print children_count, children_rate, children_survived, children_survived_rate\n",
    "\n",
    "#juvenile的总数，比例，生还人数，比例\n",
    "juvenile_rate = float(juvenile_count)/total_age_count\n",
    "juvenile_survived_rate = float(juvenile_survived)/juvenile_count\n",
    "print juvenile_count, juvenile_rate, juvenile_survived, juvenile_survived_rate\n",
    "\n",
    "#adults的总数，比例，生还人数，比例\n",
    "adults_rate = float(adults_count)/total_age_count\n",
    "adults_survived_rate = float(adults_survived)/adults_count\n",
    "print adults_count, adults_rate, adults_survived, adults_survived_rate\n",
    "\n",
    "#adults的总数，比例，生还人数，比例\n",
    "middle_rate = float(middle_count)/total_age_count\n",
    "middle_survived_rate = float(middle_survived)/middle_count\n",
    "print middle_count, middle_rate, middle_survived, middle_survived_rate\n",
    "\n",
    "#adults的总数，比例，生还人数，比例\n",
    "senior_rate = float(middle_count)/total_age_count\n",
    "senior_survived_rate = float(senior_survived)/middle_count\n",
    "print senior_count, senior_rate, senior_survived, senior_survived_rate\n",
    "\n"
   ]
  },
  {
   "cell_type": "code",
   "execution_count": 42,
   "metadata": {},
   "outputs": [
    {
     "name": "stdout",
     "output_type": "stream",
     "text": [
      "-0.0779826784139\n",
      "-0.338481035961\n"
     ]
    }
   ],
   "source": [
    "def correlation(x, y):\n",
    "    '''\n",
    "    Each input is either a NumPy array or a Pandas\n",
    "    Series.\n",
    "    correlation = average of (x in standard units) times (y in standard units)\n",
    "    Remember to pass the argument \"ddof=0\" to the Pandas std() function!\n",
    "    '''\n",
    "\n",
    "    x_normalize = (x-x.mean())/x.std(ddof=0)\n",
    "    y_normalize = (y-y.mean())/y.std(ddof=0)\n",
    "    \n",
    "    return (x_normalize*y_normalize).mean()\n",
    "\n",
    "## 由于性别里面存储的是字符，我们先把该列变成数字，可以采用apply()\n",
    "## 假定male是1，female是-1，其他为0\n",
    "def change_sex_to_digit(sex):\n",
    "    if sex =='male':\n",
    "        return 1\n",
    "    elif sex == 'female':\n",
    "        return -1\n",
    "    else:\n",
    "        return 0\n",
    "\n",
    "## 将年龄归一化，画一个散点图看看。\n",
    "def standardize_col(column_array):\n",
    "    '''\n",
    "    注意，计算得出的默认标准偏差类型在 numpy 的 .std() 和 pandas 的 .std() 函数之间是不同的。\n",
    "    默认情况下，numpy 计算的是总体标准偏差，ddof = 0。另一方面，pandas 计算的是样本标准偏差，ddof = 1。\n",
    "    如果我们知道所有的分数，那么我们就有了总体——因此，要使用 pandas 进行归一化处理，我们需要将“ddof”设置为 0。\n",
    "    '''\n",
    "    return (column_array-column_array.mean())/column_array.std(ddof = 0)\n",
    "\n",
    "\n",
    "new_gender = gender_submission['Sex'].apply(change_sex_to_digit) \n",
    "#new_age_data = standardize_col(gender_submission['Age'])\n",
    "\n",
    "#print new_age_data.describe()\n",
    "\n",
    "print correlation(gender_submission['Survived'],gender_submission['Age'])\n",
    "print correlation(gender_submission['Survived'],gender_submission['Pclass'])"
   ]
  },
  {
   "cell_type": "markdown",
   "metadata": {},
   "source": [
    "### 2. 从上面的相关性来看，是否幸存和船舱等级有一定相关性，我们再继续加工一下数据，探索一下"
   ]
  },
  {
   "cell_type": "code",
   "execution_count": 60,
   "metadata": {},
   "outputs": [
    {
     "name": "stdout",
     "output_type": "stream",
     "text": [
      "549 342\n",
      "                 PassengerId    Pclass        Age     SibSp     Parch  \\\n",
      "Survived Sex                                                            \n",
      "0        female   434.851852  2.851852  25.046875  1.209877  1.037037   \n",
      "         male     449.121795  2.476496  31.618056  0.440171  0.207265   \n",
      "1        female   429.699571  1.918455  28.847716  0.515021  0.515021   \n",
      "         male     475.724771  2.018349  27.276022  0.385321  0.357798   \n",
      "\n",
      "                      Fare  \n",
      "Survived Sex                \n",
      "0        female  23.024385  \n",
      "         male    21.960993  \n",
      "1        female  51.938573  \n",
      "         male    40.821484  \n",
      "Survived  Sex   \n",
      "0         female     81\n",
      "          male      468\n",
      "1         female    233\n",
      "          male      109\n",
      "dtype: int64\n",
      "\n",
      "\n",
      "Survived  Pclass\n",
      "0         1          80\n",
      "          2          97\n",
      "          3         372\n",
      "1         1         136\n",
      "          2          87\n",
      "          3         119\n",
      "dtype: int64\n",
      "\n",
      "\n",
      "Survived  SibSp\n",
      "0         0        398\n",
      "          1         97\n",
      "          2         15\n",
      "          3         12\n",
      "          4         15\n",
      "          5          5\n",
      "          8          7\n",
      "1         0        210\n",
      "          1        112\n",
      "          2         13\n",
      "          3          4\n",
      "          4          3\n",
      "dtype: int64\n",
      "\n",
      "\n"
     ]
    }
   ],
   "source": [
    "grouped_by_sex = gender_submission.groupby(['Survived','Sex'])\n",
    "grouped_by_pclass = gender_submission.groupby(['Survived','Pclass'])\n",
    "grouped_by_sibSp = gender_submission.groupby(['Survived','SibSp'])\n",
    "grouped_by_age = gender_submission.groupby(['Age'])\n",
    "\n",
    "#print grouped_by_sex.describe()\n",
    "#print grouped_by_pclass.describe()\n",
    "#print grouped_by_sibSp.describe()\n",
    "total_dead_people = gender_submission.groupby(['Survived']).size()[0]\n",
    "total_live_people = gender_submission.groupby(['Survived']).size()[1]\n",
    "\n",
    "print total_dead_people, total_live_people\n",
    "\n",
    "\n",
    "print grouped_by_sex.mean()\n",
    "print grouped_by_sex.size()\n",
    "print '\\n'\n",
    "\n",
    "#def normalize(value):\n",
    "  \n",
    "print grouped_by_pclass.size()\n",
    "print '\\n'\n",
    "\n",
    "print grouped_by_sibSp.size()\n",
    "print '\\n'\n",
    "\n",
    "#print grouped_by_age.size()\n",
    "#plt.show()\n"
   ]
  },
  {
   "cell_type": "code",
   "execution_count": 21,
   "metadata": {},
   "outputs": [
    {
     "ename": "ValueError",
     "evalue": "setting an array element with a sequence.",
     "output_type": "error",
     "traceback": [
      "\u001b[0;31m---------------------------------------------------------------------------\u001b[0m",
      "\u001b[0;31mValueError\u001b[0m                                Traceback (most recent call last)",
      "\u001b[0;32m<ipython-input-21-2b0425ddc461>\u001b[0m in \u001b[0;36m<module>\u001b[0;34m()\u001b[0m\n\u001b[1;32m      2\u001b[0m \u001b[0;32mimport\u001b[0m \u001b[0mseaborn\u001b[0m \u001b[0;32mas\u001b[0m \u001b[0msns\u001b[0m\u001b[0;34m\u001b[0m\u001b[0m\n\u001b[1;32m      3\u001b[0m \u001b[0;34m\u001b[0m\u001b[0m\n\u001b[0;32m----> 4\u001b[0;31m \u001b[0mplt\u001b[0m\u001b[0;34m.\u001b[0m\u001b[0mscatter\u001b[0m\u001b[0;34m(\u001b[0m\u001b[0mgrouped_by_survived\u001b[0m\u001b[0;34m[\u001b[0m\u001b[0;34m'Age'\u001b[0m\u001b[0;34m]\u001b[0m\u001b[0;34m,\u001b[0m\u001b[0mgrouped_by_survived\u001b[0m\u001b[0;34m[\u001b[0m\u001b[0;34m'Age'\u001b[0m\u001b[0;34m]\u001b[0m\u001b[0;34m)\u001b[0m\u001b[0;34m\u001b[0m\u001b[0m\n\u001b[0m\u001b[1;32m      5\u001b[0m \u001b[0mplt\u001b[0m\u001b[0;34m.\u001b[0m\u001b[0mshow\u001b[0m\u001b[0;34m(\u001b[0m\u001b[0;34m)\u001b[0m\u001b[0;34m\u001b[0m\u001b[0m\n",
      "\u001b[0;32m/Users/gaochuang/anaconda2/lib/python2.7/site-packages/matplotlib/pyplot.pyc\u001b[0m in \u001b[0;36mscatter\u001b[0;34m(x, y, s, c, marker, cmap, norm, vmin, vmax, alpha, linewidths, verts, edgecolors, hold, data, **kwargs)\u001b[0m\n\u001b[1;32m   3355\u001b[0m                          \u001b[0mvmin\u001b[0m\u001b[0;34m=\u001b[0m\u001b[0mvmin\u001b[0m\u001b[0;34m,\u001b[0m \u001b[0mvmax\u001b[0m\u001b[0;34m=\u001b[0m\u001b[0mvmax\u001b[0m\u001b[0;34m,\u001b[0m \u001b[0malpha\u001b[0m\u001b[0;34m=\u001b[0m\u001b[0malpha\u001b[0m\u001b[0;34m,\u001b[0m\u001b[0;34m\u001b[0m\u001b[0m\n\u001b[1;32m   3356\u001b[0m                          \u001b[0mlinewidths\u001b[0m\u001b[0;34m=\u001b[0m\u001b[0mlinewidths\u001b[0m\u001b[0;34m,\u001b[0m \u001b[0mverts\u001b[0m\u001b[0;34m=\u001b[0m\u001b[0mverts\u001b[0m\u001b[0;34m,\u001b[0m\u001b[0;34m\u001b[0m\u001b[0m\n\u001b[0;32m-> 3357\u001b[0;31m                          edgecolors=edgecolors, data=data, **kwargs)\n\u001b[0m\u001b[1;32m   3358\u001b[0m     \u001b[0;32mfinally\u001b[0m\u001b[0;34m:\u001b[0m\u001b[0;34m\u001b[0m\u001b[0m\n\u001b[1;32m   3359\u001b[0m         \u001b[0max\u001b[0m\u001b[0;34m.\u001b[0m\u001b[0m_hold\u001b[0m \u001b[0;34m=\u001b[0m \u001b[0mwashold\u001b[0m\u001b[0;34m\u001b[0m\u001b[0m\n",
      "\u001b[0;32m/Users/gaochuang/anaconda2/lib/python2.7/site-packages/matplotlib/__init__.pyc\u001b[0m in \u001b[0;36minner\u001b[0;34m(ax, *args, **kwargs)\u001b[0m\n\u001b[1;32m   1708\u001b[0m                     warnings.warn(msg % (label_namer, func.__name__),\n\u001b[1;32m   1709\u001b[0m                                   RuntimeWarning, stacklevel=2)\n\u001b[0;32m-> 1710\u001b[0;31m             \u001b[0;32mreturn\u001b[0m \u001b[0mfunc\u001b[0m\u001b[0;34m(\u001b[0m\u001b[0max\u001b[0m\u001b[0;34m,\u001b[0m \u001b[0;34m*\u001b[0m\u001b[0margs\u001b[0m\u001b[0;34m,\u001b[0m \u001b[0;34m**\u001b[0m\u001b[0mkwargs\u001b[0m\u001b[0;34m)\u001b[0m\u001b[0;34m\u001b[0m\u001b[0m\n\u001b[0m\u001b[1;32m   1711\u001b[0m         \u001b[0mpre_doc\u001b[0m \u001b[0;34m=\u001b[0m \u001b[0minner\u001b[0m\u001b[0;34m.\u001b[0m\u001b[0m__doc__\u001b[0m\u001b[0;34m\u001b[0m\u001b[0m\n\u001b[1;32m   1712\u001b[0m         \u001b[0;32mif\u001b[0m \u001b[0mpre_doc\u001b[0m \u001b[0;32mis\u001b[0m \u001b[0mNone\u001b[0m\u001b[0;34m:\u001b[0m\u001b[0;34m\u001b[0m\u001b[0m\n",
      "\u001b[0;32m/Users/gaochuang/anaconda2/lib/python2.7/site-packages/matplotlib/axes/_axes.pyc\u001b[0m in \u001b[0;36mscatter\u001b[0;34m(self, x, y, s, c, marker, cmap, norm, vmin, vmax, alpha, linewidths, verts, edgecolors, **kwargs)\u001b[0m\n\u001b[1;32m   4094\u001b[0m                 \u001b[0moffsets\u001b[0m\u001b[0;34m=\u001b[0m\u001b[0moffsets\u001b[0m\u001b[0;34m,\u001b[0m\u001b[0;34m\u001b[0m\u001b[0m\n\u001b[1;32m   4095\u001b[0m                 \u001b[0mtransOffset\u001b[0m\u001b[0;34m=\u001b[0m\u001b[0mkwargs\u001b[0m\u001b[0;34m.\u001b[0m\u001b[0mpop\u001b[0m\u001b[0;34m(\u001b[0m\u001b[0;34m'transform'\u001b[0m\u001b[0;34m,\u001b[0m \u001b[0mself\u001b[0m\u001b[0;34m.\u001b[0m\u001b[0mtransData\u001b[0m\u001b[0;34m)\u001b[0m\u001b[0;34m,\u001b[0m\u001b[0;34m\u001b[0m\u001b[0m\n\u001b[0;32m-> 4096\u001b[0;31m                 \u001b[0malpha\u001b[0m\u001b[0;34m=\u001b[0m\u001b[0malpha\u001b[0m\u001b[0;34m\u001b[0m\u001b[0m\n\u001b[0m\u001b[1;32m   4097\u001b[0m                 )\n\u001b[1;32m   4098\u001b[0m         \u001b[0mcollection\u001b[0m\u001b[0;34m.\u001b[0m\u001b[0mset_transform\u001b[0m\u001b[0;34m(\u001b[0m\u001b[0mmtransforms\u001b[0m\u001b[0;34m.\u001b[0m\u001b[0mIdentityTransform\u001b[0m\u001b[0;34m(\u001b[0m\u001b[0;34m)\u001b[0m\u001b[0;34m)\u001b[0m\u001b[0;34m\u001b[0m\u001b[0m\n",
      "\u001b[0;32m/Users/gaochuang/anaconda2/lib/python2.7/site-packages/matplotlib/collections.pyc\u001b[0m in \u001b[0;36m__init__\u001b[0;34m(self, paths, sizes, **kwargs)\u001b[0m\n\u001b[1;32m    859\u001b[0m         \"\"\"\n\u001b[1;32m    860\u001b[0m \u001b[0;34m\u001b[0m\u001b[0m\n\u001b[0;32m--> 861\u001b[0;31m         \u001b[0mCollection\u001b[0m\u001b[0;34m.\u001b[0m\u001b[0m__init__\u001b[0m\u001b[0;34m(\u001b[0m\u001b[0mself\u001b[0m\u001b[0;34m,\u001b[0m \u001b[0;34m**\u001b[0m\u001b[0mkwargs\u001b[0m\u001b[0;34m)\u001b[0m\u001b[0;34m\u001b[0m\u001b[0m\n\u001b[0m\u001b[1;32m    862\u001b[0m         \u001b[0mself\u001b[0m\u001b[0;34m.\u001b[0m\u001b[0mset_paths\u001b[0m\u001b[0;34m(\u001b[0m\u001b[0mpaths\u001b[0m\u001b[0;34m)\u001b[0m\u001b[0;34m\u001b[0m\u001b[0m\n\u001b[1;32m    863\u001b[0m         \u001b[0mself\u001b[0m\u001b[0;34m.\u001b[0m\u001b[0mset_sizes\u001b[0m\u001b[0;34m(\u001b[0m\u001b[0msizes\u001b[0m\u001b[0;34m)\u001b[0m\u001b[0;34m\u001b[0m\u001b[0m\n",
      "\u001b[0;32m/Users/gaochuang/anaconda2/lib/python2.7/site-packages/matplotlib/collections.pyc\u001b[0m in \u001b[0;36m__init__\u001b[0;34m(self, edgecolors, facecolors, linewidths, linestyles, antialiaseds, offsets, transOffset, norm, cmap, pickradius, hatch, urls, offset_position, zorder, **kwargs)\u001b[0m\n\u001b[1;32m    147\u001b[0m         \u001b[0mself\u001b[0m\u001b[0;34m.\u001b[0m\u001b[0m_uniform_offsets\u001b[0m \u001b[0;34m=\u001b[0m \u001b[0mNone\u001b[0m\u001b[0;34m\u001b[0m\u001b[0m\n\u001b[1;32m    148\u001b[0m         \u001b[0;32mif\u001b[0m \u001b[0moffsets\u001b[0m \u001b[0;32mis\u001b[0m \u001b[0;32mnot\u001b[0m \u001b[0mNone\u001b[0m\u001b[0;34m:\u001b[0m\u001b[0;34m\u001b[0m\u001b[0m\n\u001b[0;32m--> 149\u001b[0;31m             \u001b[0moffsets\u001b[0m \u001b[0;34m=\u001b[0m \u001b[0mnp\u001b[0m\u001b[0;34m.\u001b[0m\u001b[0masanyarray\u001b[0m\u001b[0;34m(\u001b[0m\u001b[0moffsets\u001b[0m\u001b[0;34m,\u001b[0m \u001b[0mfloat\u001b[0m\u001b[0;34m)\u001b[0m\u001b[0;34m\u001b[0m\u001b[0m\n\u001b[0m\u001b[1;32m    150\u001b[0m             \u001b[0;31m# Broadcast (2,) -> (1, 2) but nothing else.\u001b[0m\u001b[0;34m\u001b[0m\u001b[0;34m\u001b[0m\u001b[0m\n\u001b[1;32m    151\u001b[0m             \u001b[0;32mif\u001b[0m \u001b[0moffsets\u001b[0m\u001b[0;34m.\u001b[0m\u001b[0mshape\u001b[0m \u001b[0;34m==\u001b[0m \u001b[0;34m(\u001b[0m\u001b[0;36m2\u001b[0m\u001b[0;34m,\u001b[0m\u001b[0;34m)\u001b[0m\u001b[0;34m:\u001b[0m\u001b[0;34m\u001b[0m\u001b[0m\n",
      "\u001b[0;32m/Users/gaochuang/anaconda2/lib/python2.7/site-packages/numpy/core/numeric.pyc\u001b[0m in \u001b[0;36masanyarray\u001b[0;34m(a, dtype, order)\u001b[0m\n\u001b[1;32m    581\u001b[0m \u001b[0;34m\u001b[0m\u001b[0m\n\u001b[1;32m    582\u001b[0m     \"\"\"\n\u001b[0;32m--> 583\u001b[0;31m     \u001b[0;32mreturn\u001b[0m \u001b[0marray\u001b[0m\u001b[0;34m(\u001b[0m\u001b[0ma\u001b[0m\u001b[0;34m,\u001b[0m \u001b[0mdtype\u001b[0m\u001b[0;34m,\u001b[0m \u001b[0mcopy\u001b[0m\u001b[0;34m=\u001b[0m\u001b[0mFalse\u001b[0m\u001b[0;34m,\u001b[0m \u001b[0morder\u001b[0m\u001b[0;34m=\u001b[0m\u001b[0morder\u001b[0m\u001b[0;34m,\u001b[0m \u001b[0msubok\u001b[0m\u001b[0;34m=\u001b[0m\u001b[0mTrue\u001b[0m\u001b[0;34m)\u001b[0m\u001b[0;34m\u001b[0m\u001b[0m\n\u001b[0m\u001b[1;32m    584\u001b[0m \u001b[0;34m\u001b[0m\u001b[0m\n\u001b[1;32m    585\u001b[0m \u001b[0;34m\u001b[0m\u001b[0m\n",
      "\u001b[0;31mValueError\u001b[0m: setting an array element with a sequence."
     ]
    }
   ],
   "source": [
    "import matplotlib.pyplot as plt\n",
    "import seaborn as sns\n",
    "\n",
    "plt.scatter(grouped_by_survived['Age'],grouped_by_survived['Age'])\n",
    "plt.show()"
   ]
  },
  {
   "cell_type": "code",
   "execution_count": null,
   "metadata": {
    "collapsed": true
   },
   "outputs": [],
   "source": []
  }
 ],
 "metadata": {
  "kernelspec": {
   "display_name": "Python 2",
   "language": "python",
   "name": "python2"
  },
  "language_info": {
   "codemirror_mode": {
    "name": "ipython",
    "version": 2
   },
   "file_extension": ".py",
   "mimetype": "text/x-python",
   "name": "python",
   "nbconvert_exporter": "python",
   "pygments_lexer": "ipython2",
   "version": "2.7.14"
  }
 },
 "nbformat": 4,
 "nbformat_minor": 2
}
