{
 "cells": [
  {
   "cell_type": "code",
   "execution_count": 263,
   "metadata": {
    "collapsed": true
   },
   "outputs": [],
   "source": [
    "# -*- coding: UTF-8 -*-\n",
    "\n",
    "# 任意选一个你喜欢的整数，这能帮你得到稳定的结果\n",
    "seed = 114406"
   ]
  },
  {
   "cell_type": "markdown",
   "metadata": {},
   "source": [
    "# 欢迎来到线性回归项目\n",
    "\n",
    "若项目中的题目有困难没完成也没关系，我们鼓励你带着问题提交项目，评审人会给予你诸多帮助。\n",
    "\n",
    "所有选做题都可以不做，不影响项目通过。如果你做了，那么项目评审会帮你批改，也会因为选做部分做错而判定为不通过。\n",
    "\n",
    "其中非代码题可以提交手写后扫描的 pdf 文件，或使用 Latex 在文档中直接回答。"
   ]
  },
  {
   "cell_type": "markdown",
   "metadata": {},
   "source": [
    "# 1 矩阵运算\n",
    "\n",
    "## 1.1 创建一个 4*4 的单位矩阵"
   ]
  },
  {
   "cell_type": "code",
   "execution_count": 264,
   "metadata": {
    "collapsed": true
   },
   "outputs": [],
   "source": [
    "# 这个项目设计来帮你熟悉 python list 和线性代数\n",
    "# 你不能调用任何NumPy以及相关的科学计算库来完成作业\n",
    "\n",
    "\n",
    "# 本项目要求矩阵统一使用二维列表表示，如下：\n",
    "A = [[1,2,3], \n",
    "     [2,3,3], \n",
    "     [1,2,5]]\n",
    "\n",
    "B = [[1,2,3,5], \n",
    "     [2,3,3,5], \n",
    "     [1,2,5,1]]\n",
    "\n",
    "# 向量也用二维列表表示\n",
    "C = [[1],\n",
    "     [2],\n",
    "     [3]]\n",
    "\n",
    "#TODO 创建一个 4*4 单位矩阵\n",
    "I = [[1,0,0,0],[0,1,0,0],[0,0,1,0],[0,0,0,1]]"
   ]
  },
  {
   "cell_type": "markdown",
   "metadata": {},
   "source": [
    "## 1.2 返回矩阵的行数和列数"
   ]
  },
  {
   "cell_type": "code",
   "execution_count": 265,
   "metadata": {
    "collapsed": true
   },
   "outputs": [],
   "source": [
    "# TODO 返回矩阵的行数和列数\n",
    "def shape(M):\n",
    "    #假定所有传入的数组都是二维数组\n",
    "    rows = len(M)\n",
    "    cols = len(M[0])\n",
    "    for i, row in enumerate(M):\n",
    "        #assume all rows have same number of columns\n",
    "        assert cols == len(row), \"第 %d 行的列数和其他行不同，%d列\" %(i, len(row))\n",
    "    return rows, cols"
   ]
  },
  {
   "cell_type": "code",
   "execution_count": 266,
   "metadata": {},
   "outputs": [
    {
     "name": "stderr",
     "output_type": "stream",
     "text": [
      ".\n",
      "----------------------------------------------------------------------\n",
      "Ran 1 test in 0.003s\n",
      "\n",
      "OK\n"
     ]
    }
   ],
   "source": [
    "# 运行以下代码测试你的 shape 函数\n",
    "%run -i -e test.py LinearRegressionTestCase.test_shape"
   ]
  },
  {
   "cell_type": "markdown",
   "metadata": {},
   "source": [
    "## 1.3 每个元素四舍五入到特定小数数位"
   ]
  },
  {
   "cell_type": "code",
   "execution_count": 267,
   "metadata": {
    "collapsed": true
   },
   "outputs": [],
   "source": [
    "# TODO 每个元素四舍五入到特定小数数位\n",
    "# 直接修改参数矩阵，无返回值\n",
    "def matxRound(M, decPts=4):\n",
    "    rows = shape(M)[0]\n",
    "    cols = shape(M)[1]\n",
    "    for i in range(rows):\n",
    "        for j in range(cols):\n",
    "            M[i][j] = round(M[i][j], decPts)\n",
    "    "
   ]
  },
  {
   "cell_type": "code",
   "execution_count": 268,
   "metadata": {},
   "outputs": [
    {
     "name": "stderr",
     "output_type": "stream",
     "text": [
      ".\n",
      "----------------------------------------------------------------------\n",
      "Ran 1 test in 0.067s\n",
      "\n",
      "OK\n"
     ]
    }
   ],
   "source": [
    "# 运行以下代码测试你的 matxRound 函数\n",
    "%run -i -e test.py LinearRegressionTestCase.test_matxRound"
   ]
  },
  {
   "cell_type": "code",
   "execution_count": 269,
   "metadata": {},
   "outputs": [],
   "source": [
    "# TODO 计算矩阵的转置\n",
    "def transpose(M):\n",
    "    \n",
    "    '''\n",
    "    #经验证，发现问题出在“*”上，*应该是拷贝了5个引用（想象一下指针），每个对象指向同一块内容。\n",
    "    #所以只要改变其中任何一个内容，其它几个内容都会改变。\n",
    "    #new_rows = [0]*rows\n",
    "    #M_T = [new_rows]*cols\n",
    "    #因此N维数组的建立和赋值应该是两个for循环完成\n",
    "    rows,cols = shape(M)\n",
    "    M_T = [[0 for i in range(rows)] for j in range(cols)]\n",
    "    for i in range(cols):\n",
    "        for j in range(rows):\n",
    "            M_T[i][j] = M[j][i]\n",
    "    return M_T\n",
    "    '''\n",
    "    #老师提供了一个更牛，更简单的算法，牛逼！\n",
    "    # 1.一方面利用了*获取每列组成一个tuple参数;\n",
    "    # 2. 利用zip来完成tuple的迭代\n",
    "    # 3. 在重新组成list和二维矩阵\n",
    "    return [list(col) for col in zip(*M)]\n"
   ]
  },
  {
   "cell_type": "markdown",
   "metadata": {},
   "source": [
    "## 1.4 计算矩阵的转置"
   ]
  },
  {
   "cell_type": "code",
   "execution_count": 270,
   "metadata": {},
   "outputs": [
    {
     "name": "stderr",
     "output_type": "stream",
     "text": [
      ".\n",
      "----------------------------------------------------------------------\n",
      "Ran 1 test in 0.011s\n",
      "\n",
      "OK\n"
     ]
    }
   ],
   "source": [
    "# 运行以下代码测试你的 transpose 函数\n",
    "%run -i -e test.py LinearRegressionTestCase.test_transpose"
   ]
  },
  {
   "cell_type": "markdown",
   "metadata": {},
   "source": [
    "## 1.5 计算矩阵乘法 AB"
   ]
  },
  {
   "cell_type": "code",
   "execution_count": 271,
   "metadata": {
    "collapsed": true
   },
   "outputs": [],
   "source": [
    "# TODO 计算矩阵乘法 AB，如果无法相乘则raise ValueError\n",
    "# 1)当矩阵A的列数等于矩阵B的行数时，A与B可以相乘。\n",
    "# 2)矩阵C的行数等于矩阵A的行数，C的列数等于B的列数。\n",
    "# 3) 乘积C的第m行第n列的元素等于矩阵A的第m行的元素与矩阵B的第n列对应元素乘积之和。\n",
    "def matxMultiply(A, B):\n",
    "    r_A, c_A = shape(A)\n",
    "    r_B, c_B = shape(B)\n",
    "\n",
    "    C = [[0 for i in range(c_B)] for j in range(r_A)]\n",
    "    try:\n",
    "        if c_A != r_B:\n",
    "            raise ValueError\n",
    "\n",
    "        #矩阵C的行数等于矩阵A的行数，C的列数等于B的列数。\n",
    "        for i in range(r_A):\n",
    "            for j in range(c_B):\n",
    "                p =0\n",
    "                while p < c_A:\n",
    "                    C[i][j] += A[i][p]*B[p][j]\n",
    "                    p+=1\n",
    "\n",
    "    except ValueError:\n",
    "            raise ValueError(\"The columns of the Matrix A aren't euqal to the rows of the Matrix B, so they can't be multiplied\" )\n",
    "\n",
    "    return C"
   ]
  },
  {
   "cell_type": "code",
   "execution_count": 272,
   "metadata": {},
   "outputs": [
    {
     "name": "stderr",
     "output_type": "stream",
     "text": [
      ".\n",
      "----------------------------------------------------------------------\n",
      "Ran 1 test in 0.129s\n",
      "\n",
      "OK\n"
     ]
    }
   ],
   "source": [
    "# 运行以下代码测试你的 matxMultiply 函数\n",
    "%run -i -e test.py LinearRegressionTestCase.test_matxMultiply"
   ]
  },
  {
   "cell_type": "markdown",
   "metadata": {},
   "source": [
    "---\n",
    "\n",
    "# 2 Gaussign Jordan 消元法\n",
    "\n",
    "## 2.1 构造增广矩阵\n",
    "\n",
    "$ A = \\begin{bmatrix}\n",
    "    a_{11}    & a_{12} & ... & a_{1n}\\\\\n",
    "    a_{21}    & a_{22} & ... & a_{2n}\\\\\n",
    "    a_{31}    & a_{22} & ... & a_{3n}\\\\\n",
    "    ...    & ... & ... & ...\\\\\n",
    "    a_{n1}    & a_{n2} & ... & a_{nn}\\\\\n",
    "\\end{bmatrix} , b = \\begin{bmatrix}\n",
    "    b_{1}  \\\\\n",
    "    b_{2}  \\\\\n",
    "    b_{3}  \\\\\n",
    "    ...    \\\\\n",
    "    b_{n}  \\\\\n",
    "\\end{bmatrix}$\n",
    "\n",
    "返回 $ Ab = \\begin{bmatrix}\n",
    "    a_{11}    & a_{12} & ... & a_{1n} & b_{1}\\\\\n",
    "    a_{21}    & a_{22} & ... & a_{2n} & b_{2}\\\\\n",
    "    a_{31}    & a_{22} & ... & a_{3n} & b_{3}\\\\\n",
    "    ...    & ... & ... & ...& ...\\\\\n",
    "    a_{n1}    & a_{n2} & ... & a_{nn} & b_{n} \\end{bmatrix}$"
   ]
  },
  {
   "cell_type": "code",
   "execution_count": 273,
   "metadata": {
    "collapsed": true
   },
   "outputs": [],
   "source": [
    "# TODO 构造增广矩阵，假设A，b行数相同\n",
    "def augmentMatrix(A, b):\n",
    "    '''\n",
    "    r_A, c_A = shape(A)\n",
    "    r_B, c_B = shape(b)\n",
    "    new_A = [[0 for i in range(c_A + c_B)] for j in range(r_A)]\n",
    "    #new_A = deepcopy(A)\n",
    "\n",
    "    try:\n",
    "        #判断A，b的行数相同\n",
    "        if r_A != r_B:\n",
    "            raise ValueError\n",
    "\n",
    "        for i in range(r_A):\n",
    "            for j in range(c_A + c_B):\n",
    "                if j < c_A:\n",
    "                    new_A[i][j] = A[i][j]\n",
    "                else:\n",
    "                    #print b[i][j-cols_A]\n",
    "                    new_A[i][j] = b[i][j-c_A]\n",
    "    except ValueError:\n",
    "        raise ValueError(\"The rows of the matrix A must be equal to the rows of b\")\n",
    "    return new_A\n",
    "    '''\n",
    "    #采用老师推荐新的方法特别好使，简单简洁\n",
    "    return [ra + rb for ra,rb in zip(A,b)]"
   ]
  },
  {
   "cell_type": "code",
   "execution_count": 274,
   "metadata": {},
   "outputs": [
    {
     "name": "stderr",
     "output_type": "stream",
     "text": [
      ".\n",
      "----------------------------------------------------------------------\n",
      "Ran 1 test in 0.007s\n",
      "\n",
      "OK\n"
     ]
    }
   ],
   "source": [
    "# 运行以下代码测试你的 augmentMatrix 函数\n",
    "%run -i -e test.py LinearRegressionTestCase.test_augmentMatrix"
   ]
  },
  {
   "cell_type": "markdown",
   "metadata": {},
   "source": [
    "## 2.2 初等行变换\n",
    "- 交换两行\n",
    "- 把某行乘以一个非零常数\n",
    "- 把某行加上另一行的若干倍："
   ]
  },
  {
   "cell_type": "code",
   "execution_count": 275,
   "metadata": {
    "collapsed": true
   },
   "outputs": [],
   "source": [
    "# TODO r1 <---> r2\n",
    "# 直接修改参数矩阵，无返回值\n",
    "def swapRows(M, r1, r2):\n",
    "    #获得matrix 的行数，传入的参数行号应该小于行数\n",
    "    rows = shape(M)[0]\n",
    "    assert r1 < rows\n",
    "    assert r2 < rows\n",
    "    '''\n",
    "    array = M[r2]\n",
    "    M[r2] = M[r1]\n",
    "    M[r1] = array\n",
    "    '''\n",
    "    #采用老师推荐的一种方式特别简单\n",
    "    M[r1],M[r2] = M[r2],M[r1] "
   ]
  },
  {
   "cell_type": "code",
   "execution_count": 276,
   "metadata": {},
   "outputs": [
    {
     "name": "stderr",
     "output_type": "stream",
     "text": [
      ".\n",
      "----------------------------------------------------------------------\n",
      "Ran 1 test in 0.004s\n",
      "\n",
      "OK\n"
     ]
    }
   ],
   "source": [
    "# 运行以下代码测试你的 swapRows 函数\n",
    "%run -i -e test.py LinearRegressionTestCase.test_swapRows"
   ]
  },
  {
   "cell_type": "code",
   "execution_count": 277,
   "metadata": {
    "collapsed": true
   },
   "outputs": [],
   "source": [
    "# TODO r1 <--- r1 * scale\n",
    "# scale为0是非法输入，要求 raise ValueError\n",
    "# 直接修改参数矩阵，无返回值\n",
    "def scaleRow(M, r, scale):\n",
    "    if abs(scale)<1e-16:\n",
    "        raise ValueError (\"scale should not be 0\")\n",
    "    rows = shape(M)[0]\n",
    "    assert r<rows, \"输入的行号应该小于行数\"\n",
    "    \n",
    "    M[r] = [x*scale for x in M[r]]"
   ]
  },
  {
   "cell_type": "code",
   "execution_count": 278,
   "metadata": {},
   "outputs": [
    {
     "name": "stderr",
     "output_type": "stream",
     "text": [
      ".\n",
      "----------------------------------------------------------------------\n",
      "Ran 1 test in 0.003s\n",
      "\n",
      "OK\n"
     ]
    }
   ],
   "source": [
    "# 运行以下代码测试你的 scaleRow 函数\n",
    "%run -i -e test.py LinearRegressionTestCase.test_scaleRow"
   ]
  },
  {
   "cell_type": "code",
   "execution_count": 279,
   "metadata": {
    "collapsed": true
   },
   "outputs": [],
   "source": [
    "# TODO r1 <--- r1 + r2*scale\n",
    "# 直接修改参数矩阵，无返回值\n",
    "def addScaledRow(M, r1, r2, scale):\n",
    "    rows = shape(M)[0]\n",
    "    assert r1 <rows, \"输入的行号应该小于行数\"\n",
    "    assert r2 <rows, \"输入的行号应该小于行数\"\n",
    "    if abs(scale)< 1e-16:\n",
    "        raise ValueError (\"scale should not be 0\")\n",
    "\n",
    "    M[r1] = [x+y*scale for x,y in zip(M[r1], M[r2])]"
   ]
  },
  {
   "cell_type": "code",
   "execution_count": 280,
   "metadata": {},
   "outputs": [
    {
     "name": "stderr",
     "output_type": "stream",
     "text": [
      ".\n",
      "----------------------------------------------------------------------\n",
      "Ran 1 test in 0.003s\n",
      "\n",
      "OK\n"
     ]
    }
   ],
   "source": [
    "# 运行以下代码测试你的 addScaledRow 函数\n",
    "%run -i -e test.py LinearRegressionTestCase.test_addScaledRow"
   ]
  },
  {
   "cell_type": "markdown",
   "metadata": {},
   "source": [
    "## 2.3  Gaussian Jordan 消元法求解 Ax = b"
   ]
  },
  {
   "cell_type": "markdown",
   "metadata": {},
   "source": [
    "### 2.3.1 算法\n",
    "\n",
    "步骤1 检查A，b是否行数相同\n",
    "\n",
    "步骤2 构造增广矩阵Ab\n",
    "\n",
    "步骤3 逐列转换Ab为化简行阶梯形矩阵 [中文维基链接](https://zh.wikipedia.org/wiki/%E9%98%B6%E6%A2%AF%E5%BD%A2%E7%9F%A9%E9%98%B5#.E5.8C.96.E7.AE.80.E5.90.8E.E7.9A.84-.7Bzh-hans:.E8.A1.8C.3B_zh-hant:.E5.88.97.3B.7D-.E9.98.B6.E6.A2.AF.E5.BD.A2.E7.9F.A9.E9.98.B5)\n",
    "    \n",
    "    对于Ab的每一列（最后一列除外）\n",
    "        当前列为列c\n",
    "        寻找列c中 对角线以及对角线以下所有元素（行 c~N）的绝对值的最大值\n",
    "        如果绝对值最大值为0\n",
    "            那么A为奇异矩阵，返回None (你可以在选做问题2.4中证明为什么这里A一定是奇异矩阵)\n",
    "        否则\n",
    "            使用第一个行变换，将绝对值最大值所在行交换到对角线元素所在行（行c） \n",
    "            使用第二个行变换，将列c的对角线元素缩放为1\n",
    "            多次使用第三个行变换，将列c的其他元素消为0\n",
    "            \n",
    "步骤4 返回Ab的最后一列\n",
    "\n",
    "**注：** 我们并没有按照常规方法先把矩阵转化为行阶梯形矩阵，再转换为化简行阶梯形矩阵，而是一步到位。如果你熟悉常规方法的话，可以思考一下两者的等价性。"
   ]
  },
  {
   "cell_type": "markdown",
   "metadata": {},
   "source": [
    "### 2.3.2 算法推演\n",
    "\n",
    "为了充分了解Gaussian Jordan消元法的计算流程，请根据Gaussian Jordan消元法，分别手动推演矩阵A为***可逆矩阵***，矩阵A为***奇异矩阵***两种情况。"
   ]
  },
  {
   "cell_type": "markdown",
   "metadata": {},
   "source": [
    "#### 推演示例 \n",
    "\n",
    "\n",
    "$Ab = \\begin{bmatrix}\n",
    "    -7 & 5 & -1 & 1\\\\\n",
    "    1 & -3 & -8 & 1\\\\\n",
    "    -10 & -2 & 9 & 1\\end{bmatrix}$\n",
    "\n",
    "$ --> $\n",
    "$\\begin{bmatrix}\n",
    "    1 & \\frac{1}{5} & -\\frac{9}{10} & -\\frac{1}{10}\\\\\n",
    "    0 & -\\frac{16}{5} & -\\frac{71}{10} & \\frac{11}{10}\\\\\n",
    "    0 & \\frac{32}{5} & -\\frac{73}{10} & \\frac{3}{10}\\end{bmatrix}$\n",
    "\n",
    "$ --> $\n",
    "$\\begin{bmatrix}\n",
    "    1 & 0 & -\\frac{43}{64} & -\\frac{7}{64}\\\\\n",
    "    0 & 1 & -\\frac{73}{64} & \\frac{3}{64}\\\\\n",
    "    0 & 0 & -\\frac{43}{4} & \\frac{5}{4}\\end{bmatrix}$\n",
    "\n",
    "$ --> $\n",
    "$\\begin{bmatrix}\n",
    "    1 & 0 & 0 & -\\frac{3}{16}\\\\\n",
    "    0 & 1 & 0 & -\\frac{59}{688}\\\\\n",
    "    0 & 0 & 1 & -\\frac{5}{43}\\end{bmatrix}$\n",
    "    \n",
    "\n",
    "#### 推演有以下要求:\n",
    "1. 展示每一列的消元结果, 比如3*3的矩阵, 需要写三步\n",
    "2. 用分数来表示\n",
    "3. 分数不能再约分\n",
    "4. 我们已经给出了latex的语法,你只要把零改成你要的数字(或分数)即可\n",
    "5. 检查你的答案, 可以用[这个](http://www.math.odu.edu/~bogacki/cgi-bin/lat.cgi?c=sys), 或者后面通过单元测试后的`gj_Solve`\n",
    "\n",
    "_你可以用python的 [fractions](https://docs.python.org/2/library/fractions.html) 模块辅助你的约分_"
   ]
  },
  {
   "cell_type": "markdown",
   "metadata": {},
   "source": [
    "#### 以下开始你的尝试吧!"
   ]
  },
  {
   "cell_type": "code",
   "execution_count": 281,
   "metadata": {},
   "outputs": [
    {
     "name": "stdout",
     "output_type": "stream",
     "text": [
      " -5,  2,  3 ||  1 \n",
      " -3, -1,  6 ||  1 \n",
      " -1, -6,  8 ||  1 \n"
     ]
    }
   ],
   "source": [
    "# 不要修改这里！\n",
    "from helper import *\n",
    "from fractions import Fraction\n",
    "\n",
    "A = generateMatrix(3,seed,singular=False)\n",
    "b = np.ones(shape=(3,1),dtype=int) # it doesn't matter\n",
    "Ab = augmentMatrix(A.tolist(),b.tolist()) # 请确保你的增广矩阵已经写好了\n",
    "printInMatrixFormat(Ab,padding=3,truncating=0)\n"
   ]
  },
  {
   "cell_type": "markdown",
   "metadata": {},
   "source": [
    "请按照算法的步骤3，逐步推演***可逆矩阵***的变换。\n",
    "\n",
    "在下面列出每一次循环体执行之后的增广矩阵。\n",
    "\n",
    "要求：\n",
    "1. 做分数运算\n",
    "2. 使用`\\frac{n}{m}`来渲染分数，如下：\n",
    " - $\\frac{n}{m}$\n",
    " - $-\\frac{a}{b}$\n",
    "\n",
    "\n",
    "$ Ab = \\begin{bmatrix}\n",
    "    -5 & 2 & 3 & 1 \\\\\n",
    "    -3 & -1 & 6 & 1 \\\\\n",
    "    -1 & -6 & 8 & 1 \\end{bmatrix}$\n",
    "\n",
    "$ --> \\begin{bmatrix}\n",
    "    1 & -\\frac{2}{5} & -\\frac{3}{5} & -\\frac{1}{5} \\\\\n",
    "    -3 & -1 & 6 & 1 \\\\\n",
    "    -1 & -6 & 8 & 1 \\end{bmatrix}$\n",
    "    \n",
    "$ --> \\begin{bmatrix}\n",
    "    1 & -\\frac{2}{5} & -\\frac{3}{5} & -\\frac{1}{5} \\\\\n",
    "    0 & -\\frac{11}{5} & \\frac{21}{5} & \\frac{2}{5} \\\\\n",
    "    0 & -\\frac{32}{5} & \\frac{37}{5} & \\frac{4}{5} \\end{bmatrix}$\n",
    "    \n",
    "$ --> \\begin{bmatrix}\n",
    "    1 & -\\frac{2}{5} & -\\frac{3}{5} & -\\frac{1}{5} \\\\\n",
    "    0 & 1 & -\\frac{21}{11} & -\\frac{2}{11} \\\\\n",
    "    0 & -\\frac{32}{5} & \\frac{37}{5} & \\frac{4}{5} \\end{bmatrix}$\n",
    "    \n",
    "$ --> \\begin{bmatrix}\n",
    "    1 & 0 & -\\frac{15}{11} & -\\frac{3}{11} \\\\\n",
    "    0 & 1 & -\\frac{21}{11} & -\\frac{2}{11} \\\\\n",
    "    0 & 0 & -\\frac{53}{11} & -\\frac{4}{11} \\end{bmatrix}$\n",
    "\n",
    "$ --> \\begin{bmatrix}\n",
    "    1 & 0 & -\\frac{15}{11} & -\\frac{3}{11} \\\\\n",
    "    0 & 1 & -\\frac{21}{11} & -\\frac{2}{11} \\\\\n",
    "    0 & 0 & 1 & \\frac{4}{53} \\end{bmatrix}$\n",
    "    \n",
    "$ --> \\begin{bmatrix}\n",
    "    1 & 0 & -\\frac{15}{11} & -\\frac{3}{11} \\\\\n",
    "    0 & 1 & -\\frac{21}{11} & -\\frac{2}{11} \\\\\n",
    "    0 & 0 & 1 & \\frac{4}{53} \\end{bmatrix}$\n",
    "\n",
    "$ --> \\begin{bmatrix}\n",
    "    1 & 0 & 0 & -\\frac{9}{53} \\\\\n",
    "    0 & 1 & -\\frac{21}{11} & -\\frac{2}{11} \\\\\n",
    "    0 & 0 & 1 & \\frac{4}{53} \\end{bmatrix}$\n",
    "\n",
    "$ --> \\begin{bmatrix}\n",
    "    1 & 0 & 0 & -\\frac{9}{53} \\\\\n",
    "    0 & 1 & 0 & -\\frac{2}{53} \\\\\n",
    "    0 & 0 & 1 & \\frac{4}{53} \\end{bmatrix}$"
   ]
  },
  {
   "cell_type": "code",
   "execution_count": 282,
   "metadata": {},
   "outputs": [
    {
     "name": "stdout",
     "output_type": "stream",
     "text": [
      "  2,  1, -1 ||  1 \n",
      " -2,  3,  2 ||  1 \n",
      " -4,-10,  0 ||  1 \n"
     ]
    }
   ],
   "source": [
    "# 不要修改这里！\n",
    "A = generateMatrix(3,seed,singular=True)\n",
    "b = np.ones(shape=(3,1),dtype=int)\n",
    "Ab = augmentMatrix(A.tolist(),b.tolist()) # 请确保你的增广矩阵已经写好了\n",
    "printInMatrixFormat(Ab,padding=3,truncating=0)"
   ]
  },
  {
   "cell_type": "markdown",
   "metadata": {},
   "source": [
    "请按照算法的步骤3，逐步推演***奇异矩阵***的变换。\n",
    "\n",
    "在下面列出每一次循环体执行之后的增广矩阵。\n",
    "\n",
    "要求：\n",
    "1. 做分数运算\n",
    "2. 使用`\\frac{n}{m}`来渲染分数，如下：\n",
    " - $\\frac{n}{m}$\n",
    " - $-\\frac{a}{b}$\n",
    "\n",
    "交换首行首列最大值，归一化\n",
    "\n",
    "$Ab = \\begin{bmatrix}\n",
    "    -4 & -10 & 0 & 1 \\\\\n",
    "    -2 & 3 & 2 & 1 \\\\\n",
    "    2 & 1 & -1 & 1 \\end{bmatrix}$\n",
    "\n",
    "$ --> \\begin{bmatrix}\n",
    "    1 & \\frac{5}{2} & 0 & -\\frac{1}{4} \\\\\n",
    "    -2 & 3 & 2 & 1 \\\\\n",
    "    2 & 1 & -1 & 1 \\end{bmatrix}$\n",
    "\n",
    "$ --> \\begin{bmatrix}\n",
    "    1 & \\frac{5}{2} & 0 & -\\frac{1}{4} \\\\\n",
    "    0 & 8 & 2 & \\frac{1}{2} \\\\\n",
    "    0 & -4 & -1 & \\frac{3}{2} \\end{bmatrix}$\n",
    "    \n",
    "$ --> \\begin{bmatrix}\n",
    "    1 & \\frac{5}{2} & 0 & -\\frac{1}{4} \\\\\n",
    "    0 & 1 & \\frac{1}{4} & \\frac{1}{16} \\\\\n",
    "    0 & -4 & -1 & \\frac{3}{2} \\end{bmatrix}$\n",
    "\n",
    "$ --> \\begin{bmatrix}\n",
    "    1 & 0 & -\\frac{5}{8} & -\\frac{13}{32} \\\\\n",
    "    0 & 1 & \\frac{1}{4} & \\frac{1}{16} \\\\\n",
    "    0 & 0 & 0 & \\frac{7}{4} \\end{bmatrix}$第二行第二列以下消元为0\n",
    "\n",
    "出现0X=b,无穷解，矩阵的轶为2，不是满轶，为奇异矩阵\n",
    "\n",
    "$...$"
   ]
  },
  {
   "cell_type": "markdown",
   "metadata": {},
   "source": [
    "### 2.3.3 实现 Gaussian Jordan 消元法"
   ]
  },
  {
   "cell_type": "code",
   "execution_count": 314,
   "metadata": {},
   "outputs": [],
   "source": [
    "# TODO 实现 Gaussain Jordan 方法求解 Ax = b\n",
    "\n",
    "\"\"\" Gaussian Jordan 方法求解 Ax = b.\n",
    "    参数\n",
    "        A: 方阵 \n",
    "        b: 列向量\n",
    "        decPts: 四舍五入位数，默认为4\n",
    "        epsilon: 判读是否为0的阈值，默认 1.0e-16\n",
    "        \n",
    "    返回列向量 x 使得 Ax = b \n",
    "    返回None，如果 A，b 高度不同\n",
    "    返回None，如果 A 为奇异矩阵\n",
    "\"\"\"\n",
    "from copy import deepcopy\n",
    "def clear_coefficients_below(A, row, col, rows, eps=1.0e-16):\n",
    "    #print \"clear_coefficients_below from %d row and %d col\" %(row, col)\n",
    "    #起点要从row+1开始，就是row的下一行开始，到最后一行\n",
    "    for k in range(row+1, rows):\n",
    "        if abs(A[row][col]) > eps:\n",
    "            alpha = -(A[k][col])/(A[row][col])\n",
    "            if abs(alpha) > eps:\n",
    "                addScaledRow(A, k, row, alpha)\n",
    "                \n",
    "def clear_coefficients_above(A, row, col, eps=1.0e-16):\n",
    "    #起点要从0开始，到row的上一行此列进行校园\n",
    "    #print \"clear_coefficients_above from %d row and %d col\" %(row, col)\n",
    "    for k in range(row):\n",
    "        if abs(A[row][col]) > eps:\n",
    "            alpha = -(A[k][col])/(A[row][col])\n",
    "            if abs(alpha) > eps:\n",
    "                addScaledRow(A, k, row, alpha)\n",
    "    \n",
    "#将高斯约尔当消元法出来单独成为一个函数\n",
    "def gj_clear_coefficients(M, rows, cols, decPts=4,epsilon = 1.0e-16):\n",
    "    new_M = deepcopy(M)\n",
    "    \n",
    "    #开始初等变换, 从第一行第一列从左到右开始\n",
    "    row = 0\n",
    "    col = 0\n",
    "    while(row<rows and col<cols):\n",
    "        \n",
    "        #寻找列c中 对角线以及对角线以下所有元素（行 c~N）的绝对值的最大值\n",
    "        row_w_max_val = row\n",
    "        max_value = new_M[row][col]\n",
    "        #从row行开始找出此col列最大值\n",
    "        for i in range(row+1, rows):\n",
    "            if abs(new_M[i][col]) > abs(max_value):\n",
    "                max_value = new_M[i][col]\n",
    "                row_w_max_val = i\n",
    "                \n",
    "        # 如果绝对值最大值不为0,那么A为非奇异矩阵，可以消元\n",
    "        if abs(round(max_value, decPts)) > epsilon:\n",
    "            if (row_w_max_val != row):\n",
    "                swapRows(new_M, row, row_w_max_val)\n",
    "                \n",
    "            #使用第二个行变换，将列c的对角线元素缩放为1,归1\n",
    "            alpha = 1.0/new_M[row][col]\n",
    "            if abs(round((new_M[row][col]-1),decPts)) > epsilon:\n",
    "                scaleRow(new_M, row, alpha)\n",
    "            #print Ab[row]\n",
    "            #多次使用第三个行变换，将列c的其他元素消为0\n",
    "            \n",
    "            clear_coefficients_above(new_M, row, col, epsilon)\n",
    "            clear_coefficients_below(new_M, row, col, rows, epsilon)\n",
    "            row +=1\n",
    "        else:\n",
    "            #如果绝对值最大值为0，那么A为奇异矩阵\n",
    "            return None\n",
    "        col +=1\n",
    "    #把矩阵精细到小数点4位\n",
    "    #matxRound(new_M, decPts=4)\n",
    "    return new_M\n",
    "    \n",
    "def gj_Solve(A, b, decPts=4, epsilon = 1.0e-16):\n",
    "    rows_A, cols_A = shape(A)\n",
    "    rows_B = shape(b)[0]\n",
    "    \n",
    "    # 首先检查A矩阵是不是方阵（即行数和列数相等的矩阵。若行数和列数不相等，那就谈不上奇异矩阵和非奇异矩阵）\n",
    "    if rows_A != cols_A:\n",
    "        print \"This matrix A is not a square matrix, columns is not equal to rows\"\n",
    "        return None\n",
    "    \n",
    "    #首先形成增广矩阵\n",
    "    Ab = augmentMatrix(A,b)\n",
    "    #将增广矩阵变成梯形矩阵，并进行消元\n",
    "    new_Ab = gj_clear_coefficients(Ab,rows_A, cols_A)\n",
    "    \n",
    "    if new_Ab == None:\n",
    "        #奇异矩阵\n",
    "        print A\n",
    "        print \"The Matrix Ab is a singular matrix, can't get a solution\"\n",
    "        return None\n",
    "    \n",
    "    #matxRound(new_Ab, decPts=4)\n",
    "    new_b = []\n",
    "    #第四步，返回最后一列\n",
    "    for i in range(rows_B):\n",
    "        #print Ab[i][cols_A]\n",
    "        new_b.append([Fraction(new_Ab[i][cols_A]).limit_denominator()])\n",
    "    return new_b"
   ]
  },
  {
   "cell_type": "code",
   "execution_count": 315,
   "metadata": {
    "scrolled": true
   },
   "outputs": [
    {
     "name": "stdout",
     "output_type": "stream",
     "text": [
      "[[-2, -1, -9], [-4, -2, -5], [0, 0, 5]]\n",
      "The Matrix Ab is a singular matrix, can't get a solution\n",
      "[[-3, -10, -10], [8, 4, 4], [-1, -6, -6]]\n",
      "The Matrix Ab is a singular matrix, can't get a solution\n",
      "[[-6, -4, -10], [6, -9, -3], [-2, 6, 4]]\n",
      "The Matrix Ab is a singular matrix, can't get a solution\n",
      "[[-10, -6, 6], [-10, 7, -7], [8, 9, -9]]\n",
      "The Matrix Ab is a singular matrix, can't get a solution\n"
     ]
    },
    {
     "name": "stderr",
     "output_type": "stream",
     "text": [
      ".\n",
      "----------------------------------------------------------------------\n",
      "Ran 1 test in 30.333s\n",
      "\n",
      "OK\n"
     ]
    }
   ],
   "source": [
    "# 运行以下代码测试你的 gj_Solve 函数\n",
    "%run -i -e test.py LinearRegressionTestCase.test_gj_Solve"
   ]
  },
  {
   "cell_type": "markdown",
   "metadata": {},
   "source": [
    "## (选做) 2.4 算法正确判断了奇异矩阵：\n",
    "\n",
    "在算法的步骤3 中，如果发现某一列对角线和对角线以下所有元素都为0，那么则断定这个矩阵为奇异矩阵。\n",
    "\n",
    "我们用正式的语言描述这个命题，并证明为真。\n",
    "\n",
    "证明下面的命题：\n",
    "\n",
    "**如果方阵 A 可以被分为4个部分: ** \n",
    "\n",
    "$ A = \\begin{bmatrix}\n",
    "    I    & X \\\\\n",
    "    Z    & Y \\\\\n",
    "\\end{bmatrix} , \\text{其中 I 为单位矩阵，Z 为全0矩阵，Y 的第一列全0}$，\n",
    "\n",
    "**那么A为奇异矩阵。**\n",
    "\n",
    "提示：从多种角度都可以完成证明\n",
    "- 考虑矩阵 Y 和 矩阵 A 的秩\n",
    "- 考虑矩阵 Y 和 矩阵 A 的行列式\n",
    "- 考虑矩阵 A 的某一列是其他列的线性组合"
   ]
  },
  {
   "cell_type": "markdown",
   "metadata": {},
   "source": [
    "TODO 证明："
   ]
  },
  {
   "cell_type": "markdown",
   "metadata": {},
   "source": [
    "# 3  线性回归"
   ]
  },
  {
   "cell_type": "markdown",
   "metadata": {},
   "source": [
    "## 3.1 随机生成样本点"
   ]
  },
  {
   "cell_type": "code",
   "execution_count": 302,
   "metadata": {},
   "outputs": [
    {
     "data": {
      "image/png": "[encoded data removed]",
      "text/plain": [
       "<matplotlib.figure.Figure at 0x10ff950d0>"
      ]
     },
     "metadata": {},
     "output_type": "display_data"
    }
   ],
   "source": [
    "# 不要修改这里！\n",
    "# 运行一次就够了！\n",
    "from helper import *\n",
    "from matplotlib import pyplot as plt\n",
    "%matplotlib inline\n",
    "\n",
    "X,Y = generatePoints(seed,num=100)\n",
    "\n",
    "## 可视化\n",
    "plt.xlim((-5,5))\n",
    "plt.xlabel('x',fontsize=18)\n",
    "plt.ylabel('y',fontsize=18)\n",
    "plt.scatter(X,Y,c='b')\n",
    "plt.show()"
   ]
  },
  {
   "cell_type": "markdown",
   "metadata": {},
   "source": [
    "## 3.2 拟合一条直线\n",
    "\n",
    "### 3.2.1 猜测一条直线"
   ]
  },
  {
   "cell_type": "code",
   "execution_count": 303,
   "metadata": {},
   "outputs": [
    {
     "data": {
      "image/png": "[encoded data removed]",
      "text/plain": [
       "<matplotlib.figure.Figure at 0x10ff81610>"
      ]
     },
     "metadata": {},
     "output_type": "display_data"
    }
   ],
   "source": [
    "import random\n",
    "#TODO 请选择最适合的直线 y = mx + b\n",
    "index_a = int(random.random()*100)\n",
    "index_b = int(random.random()*100)\n",
    "while index_b == index_a:\n",
    "\tindex_b = int(random.random()*100)\n",
    "\n",
    "point_a = (X[index_a], Y[index_a])\n",
    "point_b = (X[index_b], Y[index_b])\n",
    "\n",
    "direction_vector = [x-y for x,y in zip(point_a, point_b)]\n",
    "#因为normal vector = [A,B], Direction vector = [B, -A]\n",
    "#y=mx+b 的normal vector是(m, -1)因此，随便用两个点的normal vector已经获得，我们因此可以获得一条线\n",
    "#在这条线上，任何一点都可以base point因此K的求值很简单了。\n",
    "'''\n",
    "因为不允许用之前写的任何私有类，因此修改此处代码\n",
    "normal_vector = Vector([direction_vector.coordinates[1], -(direction_vector.coordinates[0])])\n",
    "A = normal_vector.coordinates[0]\n",
    "B = normal_vector.coordinates[1]\n",
    "'''\n",
    "normal_vector = [direction_vector[1], -direction_vector[0]]\n",
    "A = normal_vector[0]\n",
    "B = normal_vector[1]\n",
    "K1 = [x*y for x,y in zip(point_a, normal_vector)]\n",
    "K = sum(K1)\n",
    "\n",
    "#按照y=mx+b来计算\n",
    "m1 = float(-A/B)\n",
    "b1 = float(K/B)\n",
    "\n",
    "\n",
    "# 不要修改这里！\n",
    "plt.xlim((-5,5))\n",
    "x_vals = plt.axes().get_xlim()\n",
    "y_vals = [m1*x+b1 for x in x_vals]\n",
    "plt.plot(x_vals, y_vals, '-', color='r')\n",
    "\n",
    "plt.xlabel('x',fontsize=18)\n",
    "plt.ylabel('y',fontsize=18)\n",
    "plt.scatter(X,Y,c='b')\n",
    "\n",
    "plt.show()"
   ]
  },
  {
   "cell_type": "markdown",
   "metadata": {},
   "source": [
    "### 3.2.2 计算平均平方误差 (MSE)"
   ]
  },
  {
   "cell_type": "markdown",
   "metadata": {
    "collapsed": true
   },
   "source": [
    "我们要编程计算所选直线的平均平方误差(MSE), 即数据集中每个点到直线的Y方向距离的平方的平均数，表达式如下：\n",
    "$$\n",
    "MSE = \\frac{1}{n}\\sum_{i=1}^{n}{(y_i - mx_i - b)^2}\n",
    "$$"
   ]
  },
  {
   "cell_type": "code",
   "execution_count": 304,
   "metadata": {},
   "outputs": [
    {
     "name": "stdout",
     "output_type": "stream",
     "text": [
      "1.8831463167\n"
     ]
    }
   ],
   "source": [
    "# TODO 实现以下函数并输出所选直线的MSE\n",
    "\n",
    "def calculateMSE(X,Y,m,b):\n",
    "    MSE = 0\n",
    "    n = len(X)\n",
    "    assert n == len(Y),\"the number of X items should be equal to the number of Y items\"\n",
    "    for i in range(n):\n",
    "        MSE += (Y[i]-m*X[i]-b)**2\n",
    "    return MSE/n\n",
    "\n",
    "print(calculateMSE(X,Y,m1,b1))"
   ]
  },
  {
   "cell_type": "markdown",
   "metadata": {},
   "source": [
    "### 3.2.3 调整参数 $m, b$ 来获得最小的平方平均误差\n",
    "\n",
    "你可以调整3.2.1中的参数 $m1,b1$ 让蓝点均匀覆盖在红线周围，然后微调 $m1, b1$ 让MSE最小。"
   ]
  },
  {
   "cell_type": "markdown",
   "metadata": {},
   "source": [
    "## 3.3 (选做) 找到参数 $m, b$ 使得平方平均误差最小\n",
    "\n",
    "**这一部分需要简单的微积分知识(  $ (x^2)' = 2x $ )。因为这是一个线性代数项目，所以设为选做。**\n",
    "\n",
    "刚刚我们手动调节参数，尝试找到最小的平方平均误差。下面我们要精确得求解 $m, b$ 使得平方平均误差最小。\n",
    "\n",
    "定义目标函数 $E$ 为\n",
    "$$\n",
    "E = \\frac{1}{2}\\sum_{i=1}^{n}{(y_i - mx_i - b)^2}\n",
    "$$\n",
    "\n",
    "因为 $E = \\frac{n}{2}MSE$, 所以 $E$ 取到最小值时，$MSE$ 也取到最小值。要找到 $E$ 的最小值，即要找到 $m, b$ 使得 $E$ 相对于 $m$, $E$ 相对于 $b$ 的偏导数等于0. \n",
    "\n",
    "因此我们要解下面的方程组。\n",
    "\n",
    "$$\n",
    "\\begin{cases}\n",
    "\\displaystyle\n",
    "\\frac{\\partial E}{\\partial m} =0 \\\\\n",
    "\\\\\n",
    "\\displaystyle\n",
    "\\frac{\\partial E}{\\partial b} =0 \\\\\n",
    "\\end{cases}\n",
    "$$\n",
    "\n",
    "### 3.3.1 计算目标函数相对于参数的导数\n",
    "首先我们计算两个式子左边的值\n",
    "\n",
    "证明/计算：\n",
    "$$\n",
    "\\frac{\\partial E}{\\partial m} = \\sum_{i=1}^{n}{-x_i(y_i - mx_i - b)}\n",
    "$$\n",
    "\n",
    "$$\n",
    "\\frac{\\partial E}{\\partial b} = \\sum_{i=1}^{n}{-(y_i - mx_i - b)}\n",
    "$$"
   ]
  },
  {
   "cell_type": "markdown",
   "metadata": {},
   "source": [
    "TODO 证明:"
   ]
  },
  {
   "cell_type": "markdown",
   "metadata": {},
   "source": [
    "### 3.3.2 实例推演\n",
    "\n",
    "现在我们有了一个二元二次方程组\n",
    "\n",
    "$$\n",
    "\\begin{cases}\n",
    "\\displaystyle\n",
    "\\sum_{i=1}^{n}{-x_i(y_i - mx_i - b)} =0 \\\\\n",
    "\\\\\n",
    "\\displaystyle\n",
    "\\sum_{i=1}^{n}{-(y_i - mx_i - b)} =0 \\\\\n",
    "\\end{cases}\n",
    "$$\n",
    "\n",
    "为了加强理解，我们用一个实际例子演练。\n",
    "\n",
    "我们要用三个点 $(1,1), (2,2), (3,2)$ 来拟合一条直线 y = m*x + b, 请写出\n",
    "\n",
    "- 目标函数 $E$, \n",
    "- 二元二次方程组，\n",
    "- 并求解最优参数 $m, b$"
   ]
  },
  {
   "cell_type": "markdown",
   "metadata": {},
   "source": [
    "TODO 写出目标函数，方程组和最优参数"
   ]
  },
  {
   "cell_type": "markdown",
   "metadata": {},
   "source": [
    "### 3.3.3 将方程组写成矩阵形式\n",
    "\n",
    "我们的二元二次方程组可以用更简洁的矩阵形式表达，将方程组写成矩阵形式更有利于我们使用 Gaussian Jordan 消元法求解。\n",
    "\n",
    "请证明 \n",
    "$$\n",
    "\\begin{bmatrix}\n",
    "    \\frac{\\partial E}{\\partial m} \\\\\n",
    "    \\frac{\\partial E}{\\partial b} \n",
    "\\end{bmatrix} = X^TXh - X^TY\n",
    "$$\n",
    "\n",
    "其中向量 $Y$, 矩阵 $X$ 和 向量 $h$ 分别为 :\n",
    "$$\n",
    "Y =  \\begin{bmatrix}\n",
    "    y_1 \\\\\n",
    "    y_2 \\\\\n",
    "    ... \\\\\n",
    "    y_n\n",
    "\\end{bmatrix}\n",
    ",\n",
    "X =  \\begin{bmatrix}\n",
    "    x_1 & 1 \\\\\n",
    "    x_2 & 1\\\\\n",
    "    ... & ...\\\\\n",
    "    x_n & 1 \\\\\n",
    "\\end{bmatrix},\n",
    "h =  \\begin{bmatrix}\n",
    "    m \\\\\n",
    "    b \\\\\n",
    "\\end{bmatrix}\n",
    "$$"
   ]
  },
  {
   "cell_type": "markdown",
   "metadata": {},
   "source": [
    "TODO 证明:"
   ]
  },
  {
   "cell_type": "markdown",
   "metadata": {},
   "source": [
    "至此我们知道，通过求解方程 $X^TXh = X^TY$ 来找到最优参数。这个方程十分重要，他有一个名字叫做 **Normal Equation**，也有直观的几何意义。你可以在 [子空间投影](http://open.163.com/movie/2010/11/J/U/M6V0BQC4M_M6V2AJLJU.html) 和 [投影矩阵与最小二乘](http://open.163.com/movie/2010/11/P/U/M6V0BQC4M_M6V2AOJPU.html) 看到更多关于这个方程的内容。"
   ]
  },
  {
   "cell_type": "markdown",
   "metadata": {},
   "source": [
    "### 3.4 求解 $X^TXh = X^TY$ \n",
    "\n",
    "在3.3 中，我们知道线性回归问题等价于求解 $X^TXh = X^TY$ (如果你选择不做3.3，就勇敢的相信吧，哈哈)"
   ]
  },
  {
   "cell_type": "code",
   "execution_count": 305,
   "metadata": {},
   "outputs": [
    {
     "name": "stdout",
     "output_type": "stream",
     "text": [
      "(1.6454, 13.0919)\n"
     ]
    }
   ],
   "source": [
    "# TODO 实现线性回归\n",
    "'''\n",
    "参数：X, Y 存储着一一对应的横坐标与纵坐标的两个一维数组\n",
    "返回：m，b 浮点数\n",
    "'''\n",
    "def linearRegression(X,Y):\n",
    "    #Step 1:本项目所有矩阵都为二维矩阵，因此首先把X,Y都变成二维的\n",
    "    c = [[1] for i in range(len(X))]\n",
    "    new_X = [[X[i],1] for i in range(len(X))]\n",
    "    new_Y = [[Y[i]] for i in range(len(Y))]\n",
    "    \n",
    "    #Step2: 合并X和常量,计算X^TY, 和 X^TX\n",
    "    #new_X = augmentMatrix(new_X,c)\n",
    "    b =  matxMultiply(transpose(new_X), new_Y)\n",
    "    A = matxMultiply(transpose(new_X),new_X)\n",
    "\n",
    "    #Step3: 用高斯消元法去解 Ax=b, 实际上是求解  X^TXh=X^TY\n",
    "    h = gj_Solve(A,b)\n",
    "    #fraction转换成float时一定要把分子分母分别先变成float\n",
    "    m = round(float(h[0][0].numerator)/float(h[0][0].denominator), 4)\n",
    "    b = round(float(h[1][0].numerator)/float(h[1][0].denominator), 4)\n",
    "    return m, b\n",
    "\n",
    "m2,b2 = linearRegression(X,Y)\n",
    "assert isinstance(m2,float),\"m is not a float\"\n",
    "assert isinstance(b2,float),\"b is not a float\"\n",
    "print(m2,b2)"
   ]
  },
  {
   "cell_type": "markdown",
   "metadata": {},
   "source": [
    "你求得的回归结果是什么？\n",
    "请使用运行以下代码将它画出来。"
   ]
  },
  {
   "cell_type": "code",
   "execution_count": 306,
   "metadata": {},
   "outputs": [
    {
     "data": {
      "image/png": "[encoded data removed]",
      "text/plain": [
       "<matplotlib.figure.Figure at 0x110140210>"
      ]
     },
     "metadata": {},
     "output_type": "display_data"
    }
   ],
   "source": [
    "# 请不要修改下面的代码\n",
    "x1,x2 = -5,5\n",
    "y1,y2 = x1*m2+b2, x2*m2+b2\n",
    "\n",
    "plt.xlim((-5,5))\n",
    "plt.xlabel('x',fontsize=18)\n",
    "plt.ylabel('y',fontsize=18)\n",
    "plt.scatter(X,Y,c='b')\n",
    "plt.plot((x1,x2),(y1,y2),'r')\n",
    "plt.title('y = {m:.4f}x + {b:.4f}'.format(m=m2,b=b2))\n",
    "plt.show()"
   ]
  },
  {
   "cell_type": "markdown",
   "metadata": {},
   "source": [
    "你求得的回归结果对当前数据集的MSE是多少？"
   ]
  },
  {
   "cell_type": "code",
   "execution_count": 307,
   "metadata": {},
   "outputs": [
    {
     "name": "stdout",
     "output_type": "stream",
     "text": [
      "0.948289392198\n"
     ]
    }
   ],
   "source": [
    "print(calculateMSE(X,Y,m2,b2))"
   ]
  },
  {
   "cell_type": "code",
   "execution_count": null,
   "metadata": {
    "collapsed": true
   },
   "outputs": [],
   "source": []
  }
 ],
 "metadata": {
  "anaconda-cloud": {},
  "celltoolbar": "Raw Cell Format",
  "kernelspec": {
   "display_name": "Python 2",
   "language": "python",
   "name": "python2"
  },
  "language_info": {
   "codemirror_mode": {
    "name": "ipython",
    "version": 2
   },
   "file_extension": ".py",
   "mimetype": "text/x-python",
   "name": "python",
   "nbconvert_exporter": "python",
   "pygments_lexer": "ipython2",
   "version": "2.7.14"
  }
 },
 "nbformat": 4,
 "nbformat_minor": 2
}
